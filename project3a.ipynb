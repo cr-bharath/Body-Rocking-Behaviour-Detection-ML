{
 "cells": [
  {
   "cell_type": "code",
   "execution_count": 1,
   "metadata": {
    "collapsed": true
   },
   "outputs": [],
   "source": [
    "import os\n",
    "import numpy as np\n",
    "from sklearn import linear_model\n",
    "from sklearn.neural_network import MLPClassifier\n",
    "from sklearn.model_selection import GridSearchCV\n",
    "from sklearn.linear_model import SGDClassifier\n",
    "main_directory = os.getcwd()"
   ]
  },
  {
   "cell_type": "code",
   "execution_count": 2,
   "metadata": {
    "collapsed": true
   },
   "outputs": [],
   "source": [
    "def load_data2():\n",
    "    \"\"\"Function to load the training and test data\"\"\"\n",
    "    stack_empty = 0\n",
    "    path = main_directory + '/training_data/'\n",
    "    # Training Data folders\n",
    "    folders = [ 'Session01','Session05', 'Session06', 'Session07', 'Session12']\n",
    "    length = len(folders)\n",
    "    for folder in folders:\n",
    "        print('Loading data from ' + folder)\n",
    "        new_directory = path + folder\n",
    "        os.chdir(new_directory)\n",
    "        timestamp = np.loadtxt(open('time.txt', 'r'), delimiter=',')\n",
    "        features = np.loadtxt(open('features.csv', 'r'), delimiter=',')\n",
    "        indices = np.argwhere(np.isnan(features))\n",
    "        features[indices] = 0\n",
    "        detections = np.int32(np.loadtxt(open('detection.txt', 'r'), delimiter=','))\n",
    "        if stack_empty == 0:\n",
    "            x_train = features\n",
    "            time_stack = timestamp\n",
    "            y_train = detections\n",
    "            stack_empty = 1\n",
    "        else:\n",
    "            x_train = np.vstack((x_train, features))\n",
    "            time_stack = np.hstack((time_stack, timestamp))\n",
    "            y_train = np.hstack((y_train, detections))\n",
    "\n",
    "    # Load the testing data\n",
    "    new_directory = path + 'Session13'\n",
    "    os.chdir(new_directory)\n",
    "    x_test = np.loadtxt(open('features.csv', 'r'), delimiter=',')\n",
    "    y_test = np.int32(np.loadtxt(open('detection.txt', 'r'), delimiter=','))\n",
    "    os.chdir(main_directory)\n",
    "    return x_train, y_train, x_test, y_test\n"
   ]
  },
  {
   "cell_type": "code",
   "execution_count": 19,
   "metadata": {
    "collapsed": true
   },
   "outputs": [],
   "source": [
    "def load_data():\n",
    "    \"\"\"Function to load the training and test data\"\"\"\n",
    "    stack_empty = 0\n",
    "    include_IMU_data = 0\n",
    "    path = main_directory + '/training_data/'\n",
    "    # Training Data folders\n",
    "    folders = ['Session01', 'Session05', 'Session06', 'Session07', 'Session12','Session13']\n",
    "    length = len(folders)\n",
    "    for folder in folders:\n",
    "        print('Loading data from ' + folder)\n",
    "        new_directory = path + folder\n",
    "        os.chdir(new_directory)\n",
    "        timestamp = np.loadtxt(open('time.txt', 'r'), delimiter=',')\n",
    "        features = np.loadtxt(open('features.csv', 'r'), delimiter=',')\n",
    "        armIMU = np.loadtxt(open('armIMU.txt', 'r'))\n",
    "        wristIMU = np.loadtxt(open('wristIMU.txt', 'r'))\n",
    "        indices = np.argwhere(np.isnan(features))\n",
    "        features[indices] = 0\n",
    "        detections = np.int32(np.loadtxt(open('detection.txt', 'r'), delimiter=','))\n",
    "\n",
    "        if include_IMU_data:\n",
    "            features = np.hstack((features, armIMU))\n",
    "            features = np.hstack((features, wristIMU))\n",
    "            print(features.shape)\n",
    "        if stack_empty == 0:\n",
    "            x_train = features\n",
    "            time_stack = timestamp\n",
    "            y_train = detections\n",
    "            stack_empty = 1\n",
    "        else:\n",
    "            x_train = np.vstack((x_train, features))\n",
    "            time_stack = np.hstack((time_stack, timestamp))\n",
    "            y_train = np.hstack((y_train, detections))\n",
    "\n",
    "    # Load the testing data\n",
    "    new_directory = path + 'Session13'\n",
    "    os.chdir(new_directory)\n",
    "    x_test = []#np.loadtxt(open('features.csv', 'r'), delimiter=',')\n",
    "    y_test = []#np.int32(np.loadtxt(open('detection.txt', 'r'), delimiter=','))\n",
    "    if 0:\n",
    "        armIMU = np.loadtxt(open('armIMU.txt', 'r'))\n",
    "        wristIMU = np.loadtxt(open('wristIMU.txt', 'r'))\n",
    "        if include_IMU_data:\n",
    "            x_test = np.hstack((x_test, armIMU))\n",
    "            x_test = np.hstack((x_test, wristIMU))\n",
    "    os.chdir(main_directory)\n",
    "    return x_train, y_train, x_test, y_test\n"
   ]
  },
  {
   "cell_type": "code",
   "execution_count": 20,
   "metadata": {},
   "outputs": [
    {
     "name": "stdout",
     "output_type": "stream",
     "text": [
      "Loading data from Session01\n",
      "Loading data from Session05\n",
      "Loading data from Session06\n",
      "Loading data from Session07\n",
      "Loading data from Session12\n",
      "Loading data from Session13\n"
     ]
    }
   ],
   "source": [
    "x_train, y_train, x_test, y_test = load_data()"
   ]
  },
  {
   "cell_type": "code",
   "execution_count": null,
   "metadata": {},
   "outputs": [
    {
     "name": "stdout",
     "output_type": "stream",
     "text": [
      "Fitting 5 folds for each of 36 candidates, totalling 180 fits\n"
     ]
    },
    {
     "name": "stderr",
     "output_type": "stream",
     "text": [
      "[Parallel(n_jobs=1)]: Using backend SequentialBackend with 1 concurrent workers.\n",
      "C:\\Users\\bhara\\Anaconda3\\lib\\site-packages\\sklearn\\linear_model\\stochastic_gradient.py:603: ConvergenceWarning: Maximum number of iteration reached before convergence. Consider increasing max_iter to improve the fit.\n",
      "  ConvergenceWarning)\n",
      "C:\\Users\\bhara\\Anaconda3\\lib\\site-packages\\sklearn\\linear_model\\stochastic_gradient.py:603: ConvergenceWarning: Maximum number of iteration reached before convergence. Consider increasing max_iter to improve the fit.\n",
      "  ConvergenceWarning)\n",
      "C:\\Users\\bhara\\Anaconda3\\lib\\site-packages\\sklearn\\linear_model\\stochastic_gradient.py:603: ConvergenceWarning: Maximum number of iteration reached before convergence. Consider increasing max_iter to improve the fit.\n",
      "  ConvergenceWarning)\n",
      "C:\\Users\\bhara\\Anaconda3\\lib\\site-packages\\sklearn\\linear_model\\stochastic_gradient.py:603: ConvergenceWarning: Maximum number of iteration reached before convergence. Consider increasing max_iter to improve the fit.\n",
      "  ConvergenceWarning)\n",
      "C:\\Users\\bhara\\Anaconda3\\lib\\site-packages\\sklearn\\linear_model\\stochastic_gradient.py:603: ConvergenceWarning: Maximum number of iteration reached before convergence. Consider increasing max_iter to improve the fit.\n",
      "  ConvergenceWarning)\n"
     ]
    }
   ],
   "source": [
    "#model = MLPClassifier(solver='sgd',verbose=1,learning_rate ='adaptive',batch_size = 512,\n",
    "#                      learning_rate_init = 0.001,max_iter=50, early_stopping = False,alpha=1e-5,hidden_layer_sizes=(50,5))\n",
    "penalty = ['l2', 'l1']\n",
    "loss_param = ['log', 'hinge']\n",
    "tol_param = [1e-4, 1e-5]\n",
    "scores2 = list()\n",
    "val_params2 = list()\n",
    "params = {'loss':('log','hinge'),\n",
    "          'tol':(1e-3,1e-4,1e-5),\n",
    "          'penalty':('l2','l1'),\n",
    "          'alpha':(0.1,0.01,0.001)\n",
    "}\n",
    "model = SGDClassifier(max_iter=1000, learning_rate='optimal', eta0=0.01, shuffle=True)\n",
    "# for pen in penalty:\n",
    "#     for loss in loss_param:\n",
    "#         for tol in tol_param:\n",
    "#             model = SGDClassifier(penalty=pen, max_iter=1000, learning_rate='optimal',\n",
    "#                                   eta0=0.001, shuffle=True, verbose=1, loss=loss, tol=tol)\n",
    "\n",
    "#             model.fit(x_train, y_train)\n",
    "#             score = model.score(x_test, y_test)\n",
    "#             scores2.append(score)\n",
    "#             val_params2.append((pen, loss, tol))\n",
    "clf = GridSearchCV(model,params,verbose=1,cv=5)\n",
    "clf.fit(x_train,y_train)\n",
    "print(clf)\n"
   ]
  },
  {
   "cell_type": "code",
   "execution_count": 23,
   "metadata": {},
   "outputs": [
    {
     "ename": "NameError",
     "evalue": "name 'sklearn' is not defined",
     "output_type": "error",
     "traceback": [
      "\u001b[1;31m---------------------------------------------------------------------------\u001b[0m",
      "\u001b[1;31mNameError\u001b[0m                                 Traceback (most recent call last)",
      "\u001b[1;32m<ipython-input-23-7dd6501d66db>\u001b[0m in \u001b[0;36m<module>\u001b[1;34m()\u001b[0m\n\u001b[0;32m      1\u001b[0m \u001b[0mscores\u001b[0m\u001b[1;33m,\u001b[0m \u001b[0mscores2\u001b[0m\u001b[1;33m\u001b[0m\u001b[0m\n\u001b[1;32m----> 2\u001b[1;33m \u001b[0mprint\u001b[0m\u001b[1;33m(\u001b[0m\u001b[0msklearn\u001b[0m\u001b[1;33m.\u001b[0m\u001b[0m__version__\u001b[0m\u001b[1;33m)\u001b[0m\u001b[1;33m\u001b[0m\u001b[0m\n\u001b[0m",
      "\u001b[1;31mNameError\u001b[0m: name 'sklearn' is not defined"
     ]
    }
   ],
   "source": [
    "scores, scores2\n",
    "print(sklearn.__version__)"
   ]
  }
 ],
 "metadata": {
  "kernelspec": {
   "display_name": "Python 3",
   "language": "python",
   "name": "python3"
  },
  "language_info": {
   "codemirror_mode": {
    "name": "ipython",
    "version": 3
   },
   "file_extension": ".py",
   "mimetype": "text/x-python",
   "name": "python",
   "nbconvert_exporter": "python",
   "pygments_lexer": "ipython3",
   "version": "3.6.3"
  }
 },
 "nbformat": 4,
 "nbformat_minor": 2
}
